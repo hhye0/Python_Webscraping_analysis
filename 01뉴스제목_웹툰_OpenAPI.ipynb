{
 "cells": [
  {
   "cell_type": "markdown",
   "id": "eb0bfa44",
   "metadata": {},
   "source": [
    "## 1. 뉴스제목 가져오기\n",
    "* user-agent 요청헤더를 반드시 설정해야 한다."
   ]
  },
  {
   "cell_type": "code",
   "execution_count": 1,
   "id": "f0d27781",
   "metadata": {},
   "outputs": [
    {
     "name": "stdout",
     "output_type": "stream",
     "text": [
      "Name: requests\n",
      "Version: 2.32.3\n",
      "Summary: Python HTTP for Humans.\n",
      "Home-page: https://requests.readthedocs.io\n",
      "Author: Kenneth Reitz\n",
      "Author-email: me@kennethreitz.org\n",
      "License: Apache-2.0\n",
      "Location: c:\\MyApps\\Lib\\site-packages\n",
      "Requires: certifi, charset-normalizer, idna, urllib3\n",
      "Required-by: anaconda-catalogs, anaconda-client, anaconda-cloud-auth, anaconda-project, conda, conda-build, conda-repo-cli, conda_package_streaming, cookiecutter, datashader, jupyterlab_server, panel, requests-file, requests-toolbelt, Sphinx, streamlit, tldextract\n",
      "Note: you may need to restart the kernel to use updated packages.\n"
     ]
    }
   ],
   "source": [
    "# requests 라이브러리 설치여부 확인\n",
    "%pip show requests"
   ]
  },
  {
   "cell_type": "code",
   "execution_count": 2,
   "id": "f7798ea8",
   "metadata": {},
   "outputs": [
    {
     "name": "stdout",
     "output_type": "stream",
     "text": [
      "Name: beautifulsoup4\n",
      "Version: 4.12.3\n",
      "Summary: Screen-scraping library\n",
      "Home-page: https://www.crummy.com/software/BeautifulSoup/bs4/\n",
      "Author: \n",
      "Author-email: Leonard Richardson <leonardr@segfault.org>\n",
      "License: MIT License\n",
      "Location: c:\\MyApps\\Lib\\site-packages\n",
      "Requires: soupsieve\n",
      "Required-by: conda-build, nbconvert\n",
      "Note: you may need to restart the kernel to use updated packages.\n"
     ]
    }
   ],
   "source": [
    "# beautifulsoup4 라이브러리 설치여부 확인\n",
    "%pip show beautifulsoup4"
   ]
  },
  {
   "cell_type": "code",
   "execution_count": 20,
   "id": "bf80a429",
   "metadata": {},
   "outputs": [],
   "source": [
    "# reqeusts, bs4 import\n",
    "import requests\n",
    "import bs4\n",
    "\n",
    "# BeautifulSoup 클래스 import\n",
    "from bs4 import BeautifulSoup"
   ]
  },
  {
   "cell_type": "code",
   "execution_count": 8,
   "id": "9788d6ac",
   "metadata": {},
   "outputs": [
    {
     "name": "stdout",
     "output_type": "stream",
     "text": [
      "requests 버전 2.32.3\n",
      "beautifulsoup4 버전 4.12.3\n"
     ]
    }
   ],
   "source": [
    "# requests, bs4 버전 확인하기\n",
    "print(f'requests 버전 {requests.__version__}')\n",
    "print(f'beautifulsoup4 버전 {bs4.__version__}')"
   ]
  },
  {
   "cell_type": "markdown",
   "id": "ccb91def-cde3-4aeb-b0e5-2e7233500333",
   "metadata": {},
   "source": [
    "### 1. 뉴스 제목 추출하기"
   ]
  },
  {
   "cell_type": "code",
   "execution_count": 46,
   "id": "94c12fd6",
   "metadata": {},
   "outputs": [
    {
     "name": "stdout",
     "output_type": "stream",
     "text": [
      "https://news.naver.com/section/105\n",
      "<Response [200]>\n",
      "<class 'requests.models.Response'>\n",
      "200 True\n",
      "84\n",
      "<class 'bs4.element.ResultSet'>\n",
      "https://n.news.naver.com/mnews/article/469/0000858309 'AI 이용하면 돈 준다' 뤼튼, AI 재테크 서비스 발표\n",
      "https://n.news.naver.com/mnews/article/comment/469/0000858309 \n",
      "https://n.news.naver.com/mnews/article/055/0001247427 화학·금속·세라믹·섬유 등 공공데이터 300만 건, 민간에 개방\n",
      "https://n.news.naver.com/mnews/article/comment/055/0001247427 \n",
      "https://n.news.naver.com/mnews/article/055/0001247439 스팸 문자 사전 차단 '엑스레이 서비스' 9일 시범 도입\n",
      "https://n.news.naver.com/mnews/article/comment/055/0001247439 \n",
      "https://n.news.naver.com/mnews/article/417/0001069398 AI로 보이스피싱 잡는 SKT, 스캠뱅가드 기술 금융·에이닷 적용 ?\n",
      "https://n.news.naver.com/mnews/article/comment/417/0001069398 \n",
      "https://n.news.naver.com/mnews/article/008/0005177267 '착한 소비' 카카오메이커스, 누적 거래액 1조원 돌파\n",
      "https://n.news.naver.com/mnews/article/comment/008/0005177267 \n",
      "https://n.news.naver.com/mnews/article/029/0002946582 SK C&C, `제조 특화 AI DX 기반 SHE`로 재해 줄이고 오염 막는다\n",
      "https://n.news.naver.com/mnews/article/comment/029/0002946582 \n",
      "https://n.news.naver.com/mnews/article/016/0002454498 “이건 너무 심했다” 발칵 뒤집힌 애플…쏟아지는 뭇매에 결국\n",
      "https://n.news.naver.com/mnews/article/comment/016/0002454498 \n",
      "https://n.news.naver.com/mnews/article/030/0003301461 SK그룹, SK실트론 매각 추진\n",
      "https://n.news.naver.com/mnews/article/comment/030/0003301461 \n",
      "https://n.news.naver.com/mnews/article/015/0005116736 \"그 돈이면 한국 드론 20개 산다\"…천조국에 '도전장' [긱스]\n",
      "https://n.news.naver.com/mnews/article/comment/015/0005116736 \n",
      "https://n.news.naver.com/mnews/article/015/0005116731 \"돈도 못 벌면서\" 구박 받던 당근…드디어 돈 벌었다 [긱스]\n",
      "https://n.news.naver.com/mnews/article/comment/015/0005116731 \n",
      "https://n.news.naver.com/mnews/article/029/0002946789 AI가 바꾼 검색 풍경… 이젠 키워드 말고 사진 `찰칵`\n",
      "https://n.news.naver.com/mnews/article/comment/029/0002946789 \n",
      "https://n.news.naver.com/mnews/article/031/0000922940 \"애플, 美 관세 피해 중국 아닌 인도서 아이폰 생산 늘린다\"\n",
      "https://n.news.naver.com/mnews/article/comment/031/0000922940 \n",
      "https://n.news.naver.com/mnews/article/011/0004471741 기술력이 자산이 되지 못하는 나라 [기자의눈]\n",
      "https://n.news.naver.com/mnews/article/comment/011/0004471741 \n",
      "https://n.news.naver.com/mnews/article/031/0000922930 찜솥 더위·높은 습도 견디는 고효율 태양전지 나온다 [지금은 과학]\n",
      "https://n.news.naver.com/mnews/article/comment/031/0000922930 \n",
      "https://n.news.naver.com/mnews/article/366/0001067701 2분짜리 영상도 뚝딱… 불붙은 아마존·오픈AI·구글 영상 AI 경쟁\n",
      "https://n.news.naver.com/mnews/article/comment/366/0001067701 \n",
      "https://n.news.naver.com/mnews/article/092/0002369863 K푸드에 닥친 '관세 쇼크'…삼양·LG생건 등 더 걱정\n",
      "https://n.news.naver.com/mnews/article/comment/092/0002369863 \n",
      "https://n.news.naver.com/mnews/article/009/0005472991 사흘간 비행기 5대 띄워 … 애플, 중국·인도産 아이폰 긴급수송\n",
      "https://n.news.naver.com/mnews/article/comment/009/0005472991 \n",
      "https://n.news.naver.com/mnews/article/584/0000031792 DNA까지 침투…나노플라스틱 생성 원리 최초 규명\n",
      "https://n.news.naver.com/mnews/article/comment/584/0000031792 \n",
      "https://n.news.naver.com/mnews/article/009/0005472950 옷장 비췄더니 AI가 \"이 옷 입으세요\"\n",
      "https://n.news.naver.com/mnews/article/comment/009/0005472950 \n",
      "https://n.news.naver.com/mnews/article/081/0003531813 美 스탠퍼드대 ‘AI 보고서’ 선정된 유일한 한국 모델은?\n",
      "https://n.news.naver.com/mnews/article/comment/081/0003531813 \n",
      "https://n.news.naver.com/mnews/article/366/0001067696 의협, “내년 의대 정원 3058명으로”…정부·국회에 대화 요구도\n",
      "https://n.news.naver.com/mnews/article/comment/366/0001067696 \n",
      "https://n.news.naver.com/mnews/article/092/0002369861 BBQ, 법정관리 '위메프' 품을까...\"인수 의향서 제출\"\n",
      "https://n.news.naver.com/mnews/article/comment/092/0002369861 \n",
      "https://n.news.naver.com/mnews/article/138/0002194290 키움증권 ‘전산 먹통’ 논란…  결국 다우기술로 불똥튀나\n",
      "https://n.news.naver.com/mnews/article/comment/138/0002194290 \n",
      "https://n.news.naver.com/mnews/article/009/0005472935 \"기존 약물 새 쓰임새, AI로 찾아냅니다\"\n",
      "https://n.news.naver.com/mnews/article/comment/009/0005472935 \n",
      "https://n.news.naver.com/mnews/article/029/0002946759 `한국계 우주비행사` 조니 김, 러 우주선 타고 국제우주정거장 `발사`\n",
      "https://n.news.naver.com/mnews/article/comment/029/0002946759 \n",
      "https://n.news.naver.com/mnews/article/138/0002194287 [DD퇴근길] '갤럭시S25' 통했나?…삼성전자, 1Q 어닝서프라이즈\n",
      "https://n.news.naver.com/mnews/article/comment/138/0002194287 \n",
      "https://n.news.naver.com/mnews/article/138/0002194286 악성문자 발송단계서 원천차단…'엑스레이' 서비스, 9일부터 시범 운영\n",
      "https://n.news.naver.com/mnews/article/comment/138/0002194286 \n",
      "https://n.news.naver.com/mnews/article/003/0013171527 아이폰 미리 사야할까…관세 쇼크에 美에선 일부 사재기 현상\n",
      "https://n.news.naver.com/mnews/article/comment/003/0013171527 \n",
      "https://n.news.naver.com/mnews/article/092/0002369859 순이익 3분의 1인데…MBK, '오스템임플란트' 고배당 논란\n",
      "https://n.news.naver.com/mnews/article/comment/092/0002369859 \n",
      "https://n.news.naver.com/mnews/article/417/0001069560 소상공인과 IT공룡 사이… 장미 대선 앞두고 '온플법' 재점화될까\n",
      "https://n.news.naver.com/mnews/article/comment/417/0001069560 \n",
      "https://n.news.naver.com/mnews/article/293/0000065897 토스랩의 '잔디 몰입' 전략…챗GPT 없어도 AI로 리포트 쓰고 번역한다[테크체인저]\n",
      "https://n.news.naver.com/mnews/article/comment/293/0000065897 \n",
      "https://n.news.naver.com/mnews/article/092/0002369855 [유미's 픽] 트럼프 관세 폭탄 '코 앞'…글로벌 SW·AI 시장 찬바람 불까\n",
      "https://n.news.naver.com/mnews/article/comment/092/0002369855 \n",
      "https://n.news.naver.com/mnews/article/421/0008180923 '국민 게임' 포트리스 빠르면 올해 안에 돌아온다\n",
      "https://n.news.naver.com/mnews/article/comment/421/0008180923 \n",
      "https://n.news.naver.com/mnews/article/469/0000858365 국산 유전자재조합 탄저 백신 세계 첫 허가... GC녹십자, 1년반 만에 상용화\n",
      "https://n.news.naver.com/mnews/article/comment/469/0000858365 \n",
      "https://n.news.naver.com/mnews/article/025/0003432725 [팩플] 미중 AI격차 좁혀졌다...LG AI 엑사원 3.5 주목할만한 모델 선정\n",
      "https://n.news.naver.com/mnews/article/comment/025/0003432725 \n",
      "https://n.news.naver.com/mnews/article/009/0005472903 지브리풍 인기 끌자...네이버 스노우도 “일본 애니 프사 만들어드려요”\n",
      "https://n.news.naver.com/mnews/article/comment/009/0005472903 \n",
      "https://n.news.naver.com/mnews/article/020/0003626847 [생활 속 IT] 아이폰 ‘나의 찾기’로 실시간 위치 공유·제품 찾는 방법\n",
      "https://n.news.naver.com/mnews/article/comment/020/0003626847 \n",
      "https://n.news.naver.com/mnews/article/029/0002946736 아이폰 가격 인상 우려에 \"미리 산다\"...美 오프라인 매장 `인산인해`\n",
      "https://n.news.naver.com/mnews/article/comment/029/0002946736 \n",
      "https://n.news.naver.com/mnews/article/138/0002194283 [韓보안진단]⑥ 20년만에 19곳 인수…팔로알토네트웍스 성장 비결은 '통합'\n",
      "https://n.news.naver.com/mnews/article/comment/138/0002194283 \n",
      "https://n.news.naver.com/mnews/article/243/0000076002 \"아이폰 50만원 올라?\"…관세에 애플스토어 뛰어간 미국인들\n",
      "https://n.news.naver.com/mnews/article/comment/243/0000076002 \n",
      "https://n.news.naver.com/mnews/article/138/0002194282 ‘재해복구’ 없는 범정부 초거대AI 공통기반 구현사업, 졸속 추진 우려\n",
      "https://n.news.naver.com/mnews/article/comment/138/0002194282 \n",
      "https://n.news.naver.com/mnews/article/421/0008180886 [일문일답] 의협, 정부·국회에 대화 요구…\"교육 어려우면 안 뽑아야\"\n",
      "https://n.news.naver.com/mnews/article/comment/421/0008180886 \n"
     ]
    }
   ],
   "source": [
    "# IT/과학 뉴스 \n",
    "req_param = {\n",
    "    'sid': 105\n",
    "}\n",
    "# \n",
    "url = 'https://news.naver.com/section/{sid}'.format(**req_param)\n",
    "print(url)\n",
    "\n",
    "url2 = 'https://news.naver.com/section/105' \n",
    "\n",
    "# 요청 헤더 설정 : 브라우저 정보 (사람처럼 보이게 하려고 설정)\n",
    "req_header = {\n",
    "    'user-agent': 'Mozilla/5.0 (Windows NT 10.0; Win64; x64) AppleWebKit/537.36 (KHTML, like Gecko) Chrome/134.0.0.0 Safari/537.36'\n",
    "}\n",
    "\n",
    "# requests 의 get() 함수 호출하기 \n",
    "res = requests.get(url, headers = req_header)\n",
    "\n",
    "print(res)\n",
    "print(type(res))\n",
    "print(res.status_code, res.ok)\n",
    "\n",
    "# 응답(response)이 OK 이면\n",
    "if res.ok:\n",
    "    # 응답 (response)에서 text 추출\n",
    "    html = res.text\n",
    "    # print(html)\n",
    "    # BeautifulSoup 객체 생성  \n",
    "    soup = BeautifulSoup(html, 'html.parser')\n",
    "    #print(soup)\n",
    "    \n",
    "    # CSS 선택자\n",
    "    # <div class = 'sa_text'><a></a></div>\n",
    "    print(len(soup.select(\"div.sa_text a[href*='mnews/article']\")))\n",
    "    # print(soup.select(\"div.sa_text a[href*='mnews/article']\"))\n",
    "    a_tag_list = soup.select(\"div.sa_text a[href*='mnews/article']\")\n",
    "    print(type(a_tag_list)) #[<a>뉴스제목</a>] ResultSet객체 , <a></a> : Tag 객체ResultSet  \n",
    "    \n",
    "    for a_tag in a_tag_list:\n",
    "        #print(type(a_tag))\n",
    "        title = a_tag.text.strip()\n",
    "        #href 속성 값 가져오기기\n",
    "        link = a_tag['href']\n",
    "        print(link, title)\n",
    "        # == 위 코드와 동일 print(a_tag.text.strip())\n",
    "\n",
    "        # <a> 태그 리스트 순회하기    \n",
    "\n",
    "else: \n",
    "    # 응답(response)이 Error 이면 status code 출력    \n",
    "    print(f'ERROR 코드 = {res.status_code}')\n"
   ]
  },
  {
   "cell_type": "markdown",
   "id": "45640860-a449-4285-90d7-5f300292b461",
   "metadata": {},
   "source": [
    "### 1.1 뉴스제목 추출하는 함수 선언하기"
   ]
  },
  {
   "cell_type": "code",
   "execution_count": 45,
   "id": "9f2e4ef8",
   "metadata": {},
   "outputs": [
    {
     "name": "stdout",
     "output_type": "stream",
     "text": [
      "https://news.naver.com/section/104 세계 뉴스\n",
      "<Response [200]>\n",
      "<class 'requests.models.Response'>\n",
      "200 True\n"
     ]
    }
   ],
   "source": [
    "import requests\n",
    "from bs4 import BeautifulSoup\n",
    "\n",
    "section_dict = {100:'정치',101:'경제',102:'사회',103:'생활/문화',104:'세계',105:'IT/과학'}\n",
    "\n",
    "def print_news(sid):  #print_new(103,'생활/문화') \n",
    "    section = section_dict[sid]\n",
    "    req_param = {'sid': sid}\n",
    "\n",
    "    url = 'https://news.naver.com/section/{sid}'.format(**req_param)\n",
    "    print(f'{url} {section} 뉴스')\n",
    "\n",
    "    # 요청 헤더 설정 : 브라우저 정보 (사람처럼 보이게 하려고 설정)\n",
    "    req_header = {\n",
    "    'user-agent': 'Mozilla/5.0 (Windows NT 10.0; Win64; x64) AppleWebKit/537.36 (KHTML, like Gecko) Chrome/134.0.0.0 Safari/537.36'\n",
    "    }\n",
    "\n",
    "    # requests 의 get() 함수 호출하기 \n",
    "    res = requests.get(url, headers = req_header)\n",
    "\n",
    "    print(res)\n",
    "    print(type(res))\n",
    "    print(res.status_code, res.ok)\n",
    "\n",
    "print_news(104)\n",
    " "
   ]
  },
  {
   "cell_type": "markdown",
   "id": "323196dc",
   "metadata": {},
   "source": [
    "### 2. Image 다운로드\n",
    "* referer 요청 헤더를 반드시 설정해야 한다."
   ]
  },
  {
   "cell_type": "code",
   "execution_count": null,
   "id": "c72d6cb1",
   "metadata": {},
   "outputs": [
    {
     "name": "stdout",
     "output_type": "stream",
     "text": [
      "200\n",
      "writing to 20220804112251_d97bd1e1b38f0cd022e4e3639d2926b3_IMAG01_1.jpg(299,319 bytes)\n",
      "200\n",
      "writing to 20220804112251_d97bd1e1b38f0cd022e4e3639d2926b3_IMAG01_2.jpg(163,333 bytes)\n",
      "200\n",
      "writing to 20220804112251_d97bd1e1b38f0cd022e4e3639d2926b3_IMAG01_3.jpg(182,530 bytes)\n"
     ]
    }
   ],
   "source": [
    "import requests\n",
    "import os\n",
    "\n",
    "req_header = {\n",
    "    'referer':''\n",
    "}\n",
    "\n",
    "img_urls = [\n",
    "    'https://image-comic.pstatic.net/webtoon/798173/5/20220804112251_d97bd1e1b38f0cd022e4e3639d2926b3_IMAG01_1.jpg',\n",
    "    'https://image-comic.pstatic.net/webtoon/798173/5/20220804112251_d97bd1e1b38f0cd022e4e3639d2926b3_IMAG01_2.jpg',\n",
    "    'https://image-comic.pstatic.net/webtoon/798173/5/20220804112251_d97bd1e1b38f0cd022e4e3639d2926b3_IMAG01_3.jpg'\n",
    "]\n",
    "\n",
    "for img_url in img_urls:\n",
    "    pass\n",
    "    # requests 의 get(url, headers) 함수 호출하기 \n",
    "        \n",
    "        # binary 응답 데이터 가져오기\n",
    "        \n",
    "        # url에서 파일명만 추출하기\n",
    "        \n",
    "        # binday data를 file에 write하기\n"
   ]
  },
  {
   "cell_type": "markdown",
   "id": "e8b00a04",
   "metadata": {},
   "source": [
    "* 현재 요청된 페이지의 image 모두 다운로드 해보기"
   ]
  },
  {
   "cell_type": "code",
   "execution_count": null,
   "id": "b30f7bf5",
   "metadata": {},
   "outputs": [],
   "source": []
  },
  {
   "cell_type": "markdown",
   "id": "2ac9f5f9",
   "metadata": {},
   "source": [
    "### 3. 파일 업로드 하기\n",
    "* http://httpbin.org/post 업로드 요청을 할 수 있는 url"
   ]
  },
  {
   "cell_type": "code",
   "execution_count": null,
   "id": "04da4790",
   "metadata": {},
   "outputs": [
    {
     "name": "stdout",
     "output_type": "stream",
     "text": [
      "200\n"
     ]
    }
   ],
   "source": [
    "import requests\n",
    "\n",
    "upload_files = {\n",
    "    \n",
    "}\n",
    "#print(upload_files)\n",
    "\n",
    "url = 'http://httpbin.org/post'\n",
    "# file 업로드 하려면 requests의 post 함수에 files 속성을 사용합니다.\n",
    "\n"
   ]
  },
  {
   "cell_type": "markdown",
   "id": "7ad65f12",
   "metadata": {},
   "source": [
    "### 4. 캡챠(이미지) API 호출하기\n",
    "* urllib 사용\n",
    "* 1. 캡차 키 발급 요청\n",
    "  2. 캡차 이미지 요청\n",
    "  3. 사용자 입력값 검증 요청"
   ]
  },
  {
   "cell_type": "code",
   "execution_count": 2,
   "id": "bc4ae360-e772-4873-8642-d3494edd34e1",
   "metadata": {},
   "outputs": [],
   "source": [
    "# 캡차 키 발급 요청\n"
   ]
  },
  {
   "cell_type": "code",
   "execution_count": 1,
   "id": "7b95b6a0-c218-4792-82a6-da4d80872071",
   "metadata": {},
   "outputs": [],
   "source": [
    "# 캡차 이미지 요청\n"
   ]
  },
  {
   "cell_type": "code",
   "execution_count": 3,
   "id": "a79076af-2cd0-4de2-8301-316b9130c55e",
   "metadata": {},
   "outputs": [],
   "source": [
    "#  사용자 입력값 검증 요청\n",
    "\n"
   ]
  },
  {
   "cell_type": "markdown",
   "id": "b7d984a6",
   "metadata": {},
   "source": [
    "* requests를 사용하는 코드로 변경하기\n",
    "* [requests docs](https://requests.readthedocs.io/en/latest/user/quickstart/)"
   ]
  },
  {
   "cell_type": "code",
   "execution_count": null,
   "id": "727b427b",
   "metadata": {
    "scrolled": true
   },
   "outputs": [
    {
     "name": "stdout",
     "output_type": "stream",
     "text": [
      "Error Code: 403\n"
     ]
    }
   ],
   "source": [
    "# 사용자 입력값 검증 요청\n",
    "\n"
   ]
  },
  {
   "cell_type": "markdown",
   "id": "d5e1179a",
   "metadata": {},
   "source": [
    "### 5. 블로그 검색하기"
   ]
  },
  {
   "cell_type": "code",
   "execution_count": null,
   "id": "877d0c7f",
   "metadata": {},
   "outputs": [],
   "source": [
    "import requests\n",
    "import pprint\n",
    "\n",
    "headers = {\n",
    "    'X-Naver-Client-Id': '',\n",
    "    'X-Naver-Client-Secret': '',\n",
    "}\n",
    "\n",
    "payload = {\n",
    "    'query': '파이썬',\n",
    "    'display': 100,\n",
    "    'sort': 'sim'\n",
    "}\n",
    "\n",
    "url = 'https://openapi.naver.com/v1/search/blog.json'\n",
    "\n",
    "\n",
    "# requests get(url, params, headers) 요청 \n",
    "\n",
    "# json() 함수로 응답 결과 가져오오기\n",
    "# 'title' , 'bloggername' , 'description' , 'bloggerlink' , 'link'\n",
    "\n",
    "# 'data/nhnblog.txt' 파일 생성하기\n"
   ]
  }
 ],
 "metadata": {
  "kernelspec": {
   "display_name": "base",
   "language": "python",
   "name": "python3"
  },
  "language_info": {
   "codemirror_mode": {
    "name": "ipython",
    "version": 3
   },
   "file_extension": ".py",
   "mimetype": "text/x-python",
   "name": "python",
   "nbconvert_exporter": "python",
   "pygments_lexer": "ipython3",
   "version": "3.12.7"
  }
 },
 "nbformat": 4,
 "nbformat_minor": 5
}
