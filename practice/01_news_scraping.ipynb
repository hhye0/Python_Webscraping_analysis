{
 "cells": [
  {
   "cell_type": "markdown",
   "id": "9877d8d0",
   "metadata": {
    "vscode": {
     "languageId": "plaintext"
    }
   },
   "source": [
    "## Daum 뉴스기사 제목 스크래핑하기\n",
    "\n",
    "- 아래의 url에서 뉴스기사의 링크와 제목을 출력하세요.\n",
    "- url = 'https://news.daum.net/economy'"
   ]
  },
  {
   "cell_type": "code",
   "execution_count": 11,
   "id": "27d71367",
   "metadata": {},
   "outputs": [],
   "source": [
    "import requests\n",
    "\n",
    "from bs4 import BeautifulSoup"
   ]
  },
  {
   "cell_type": "code",
   "execution_count": 7,
   "id": "09a2c818",
   "metadata": {},
   "outputs": [
    {
     "name": "stdout",
     "output_type": "stream",
     "text": [
      "https://news.daum.net/economy\n",
      "<class 'requests.models.Response'>\n",
      "200\n",
      "<class 'bs4.element.ResultSet'> 9\n",
      "https://v.daum.net/v/20250408184905360 ‘관세 직격탄’ 애플 주가 19% ‘뚝’… 갈수록 커지는 ‘T공포’ [관세전쟁 후폭풍]\n",
      "https://v.daum.net/v/20250408183514025 미·중 치킨게임…원화값 1473원대 추락, 글로벌 금융위기 후 최저\n",
      "https://v.daum.net/v/20250408175343664 美·中 관세 폭탄 돌리기…‘새우등’ 한국 경제 불안감 더 커졌다\n",
      "https://v.daum.net/v/20250408175111585 나랏빚 1175조 '역대 최대'…추경 재원 바닥\n",
      "https://v.daum.net/v/20250408174344325 메디젠휴먼케어, \"23andMe 파산..한국 유전체 산업의 위기 아닌 기회\"\n",
      "https://v.daum.net/v/20250408173713085 칩 확보서 데이터센터까지···전 산업에 'AI 고속도로' 깔아야\n",
      "https://v.daum.net/v/20250408173626057 77년 묵은 정부조직, 데이터 중심 대수술···'AI 부총리' 도입을\n",
      "https://v.daum.net/v/20250408161553109 트럼프발 주가폭락에 동아 \"경제적 핵전쟁\" 조선 \"금융위기 후 최악\"\n",
      "https://v.daum.net/v/20250408160526681 공황과 격변의 판도라 박스가 열리다\n"
     ]
    }
   ],
   "source": [
    "url = 'https://news.daum.net/economy'\n",
    "print(url)\n",
    "\n",
    "req_header = {\n",
    "    'user-agent': 'Mozilla/5.0 (Windows NT 10.0; Win64; x64) AppleWebKit/537.36 (KHTML, like Gecko) Chrome/134.0.0.0 Safari/537.36'\n",
    "}\n",
    "\n",
    "res = requests.get(url, headers = req_header)\n",
    "res.encoding = 'utf-8'\n",
    "print(type(res))\n",
    "print(res.status_code)\n",
    "\n",
    "if res.ok:\n",
    "    html = res.text\n",
    "    soup = BeautifulSoup(html, 'html.parser')\n",
    "    \n",
    "    li_tag_list = soup.select(\"ul.list_newsheadline2 li\")\n",
    "    print(type(li_tag_list), len(li_tag_list))\n",
    "\n",
    "\n",
    "    for li_tag in li_tag_list:\n",
    "        a_tag = li_tag.find('a')\n",
    "        link = a_tag['href']\n",
    "        strong_tag = li_tag.select_one('div.cont_thumb strong.tit_txt')\n",
    "        title = strong_tag.text.strip()\n",
    "    \n",
    "        print(link, title)\n",
    "\n",
    "else:\n",
    "    print(f'ERROR 코드 = {res.status_code}')\n",
    "\n",
    "\n"
   ]
  },
  {
   "cell_type": "markdown",
   "id": "533d672f",
   "metadata": {},
   "source": [
    "# 두번째\n",
    "- 여러 개의 section 중 하나를 선택해 url에서 뉴스 기사의 링크와 제목을 출력하는 코드를 함수로 작성하기\n",
    "\n",
    "    #경제 뉴스 URL\n",
    "    url = 'https://news.daum.net/economy'\n",
    "    #사회 뉴스 URL\n",
    "    url = 'https://news.daum.net/society'\n"
   ]
  },
  {
   "cell_type": "code",
   "execution_count": 20,
   "id": "c6cf9d10",
   "metadata": {},
   "outputs": [],
   "source": [
    "import requests\n",
    "from bs4 import BeautifulSoup\n",
    "\n",
    "section_dict = {'기후/환경':'climate','사회':'society','경제':'economy','정치':'politics',\\\n",
    "             '국재':'world','문화':'culture','생활':'life','IT/과학':'tech','인물':'people'}\n",
    "\n",
    "def print_news(section_name):\n",
    "    section_key = section_dict.get(section_name)\n",
    "    \n",
    "    url = f'https://news.daum.net/{section_key}'\n",
    "    print(f\"{url} {section_name} 뉴스\")\n",
    "\n",
    "    req_header = {\n",
    "        'user-agent': 'Mozilla/5.0 (Windows NT 10.0; Win64; x64) AppleWebKit/537.36 (KHTML, like Gecko) Chrome/134.0.0.0 Safari/537.36'\n",
    "    }\n",
    "        \n",
    "    res = requests.get(url, headers = req_header)\n",
    "    res.encoding = 'utf-8'\n",
    "\n",
    "    if res.ok:\n",
    "        html = res.text\n",
    "        soup = BeautifulSoup(html, 'html.parser')\n",
    "        \n",
    "        li_tag_list = soup.select(\"ul.list_newsheadline2 li\")\n",
    "        print(type(li_tag_list), len(li_tag_list))\n",
    "\n",
    "\n",
    "        for li_tag in li_tag_list:\n",
    "            a_tag = li_tag.find('a')\n",
    "            link = a_tag['href']\n",
    "            strong_tag = li_tag.select_one('div.cont_thumb strong.tit_txt')\n",
    "            title = strong_tag.text.strip()\n",
    "        \n",
    "            print(link, title)\n"
   ]
  },
  {
   "cell_type": "code",
   "execution_count": 21,
   "id": "9b7b5aac",
   "metadata": {},
   "outputs": [
    {
     "name": "stdout",
     "output_type": "stream",
     "text": [
      "https://news.daum.net/economy 경제 뉴스\n",
      "<class 'bs4.element.ResultSet'> 9\n",
      "https://v.daum.net/v/20250408184905360 ‘관세 직격탄’ 애플 주가 19% ‘뚝’… 갈수록 커지는 ‘T공포’ [관세전쟁 후폭풍]\n",
      "https://v.daum.net/v/20250408183514025 미·중 치킨게임…원화값 1473원대 추락, 글로벌 금융위기 후 최저\n",
      "https://v.daum.net/v/20250408175343664 美·中 관세 폭탄 돌리기…‘새우등’ 한국 경제 불안감 더 커졌다\n",
      "https://v.daum.net/v/20250408175111585 나랏빚 1175조 '역대 최대'…추경 재원 바닥\n",
      "https://v.daum.net/v/20250408174344325 메디젠휴먼케어, \"23andMe 파산..한국 유전체 산업의 위기 아닌 기회\"\n",
      "https://v.daum.net/v/20250408173713085 칩 확보서 데이터센터까지···전 산업에 'AI 고속도로' 깔아야\n",
      "https://v.daum.net/v/20250408173626057 77년 묵은 정부조직, 데이터 중심 대수술···'AI 부총리' 도입을\n",
      "https://v.daum.net/v/20250408161553109 트럼프발 주가폭락에 동아 \"경제적 핵전쟁\" 조선 \"금융위기 후 최악\"\n",
      "https://v.daum.net/v/20250408160526681 공황과 격변의 판도라 박스가 열리다\n",
      "https://news.daum.net/society 사회 뉴스\n",
      "<class 'bs4.element.ResultSet'> 9\n",
      "https://v.daum.net/v/20250408193850514 전기요금 더 깎아달라는 교육감들…“기후 대응 역행” 비판도\n",
      "https://v.daum.net/v/20250408193534409 [친절한K] 가축분뇨 유출에도 영업, 왜?…지하수 오염 빨간불\n",
      "https://v.daum.net/v/20250408193014311 [단독] 문건 이름 “제초작업”…삼청교육 최초 계획 추정 문건 나와\n",
      "https://v.daum.net/v/20250408193001295 '청산가리 막걸리 사건' 재심서 이례적 상황...검찰, 돌연 당시 검찰 수사에 의문 표출\n",
      "https://v.daum.net/v/20250408192831276 리더십 공백에 관세·추경 대응 속수무책… 경기 회복 '골든 타임' 놓칠라\n",
      "https://v.daum.net/v/20250408192038117 [입시의 정석] 수시 합격선 '촘촘'…한층 중요해진 고3 내신, 대비는?\n",
      "https://v.daum.net/v/20250408191904091 [조기 대선, 교육의 미래를 묻다] AI 교과서 도입 한 달, 현장 반응은 저조…과제는?\n",
      "https://v.daum.net/v/20250408191512023 최원목 신보 이사장, 취임 3주년 맞아 금융·비금융 혁신 주도\n",
      "https://v.daum.net/v/20250408191350996 [아는기자]헌재, 보수 우위로 전환…향후 4년간 그대로?\n"
     ]
    }
   ],
   "source": [
    "print_news('경제')\n",
    "print_news('사회')"
   ]
  }
 ],
 "metadata": {
  "kernelspec": {
   "display_name": "base",
   "language": "python",
   "name": "python3"
  },
  "language_info": {
   "codemirror_mode": {
    "name": "ipython",
    "version": 3
   },
   "file_extension": ".py",
   "mimetype": "text/x-python",
   "name": "python",
   "nbconvert_exporter": "python",
   "pygments_lexer": "ipython3",
   "version": "3.12.7"
  }
 },
 "nbformat": 4,
 "nbformat_minor": 5
}
