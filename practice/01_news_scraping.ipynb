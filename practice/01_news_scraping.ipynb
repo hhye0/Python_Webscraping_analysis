{
 "cells": [
  {
   "cell_type": "markdown",
   "id": "9877d8d0",
   "metadata": {
    "vscode": {
     "languageId": "plaintext"
    }
   },
   "source": [
    "## 뉴스 제목 가져오기\n",
    "#### 1-1. Daum 뉴스\n",
    "\n",
    "- 아래의 url에서 뉴스기사의 링크와 제목을 출력하세요.\n",
    "- url = 'https://news.daum.net/economy'"
   ]
  },
  {
   "cell_type": "code",
   "execution_count": 11,
   "id": "27d71367",
   "metadata": {},
   "outputs": [],
   "source": [
    "import requests\n",
    "\n",
    "from bs4 import BeautifulSoup"
   ]
  },
  {
   "cell_type": "code",
   "execution_count": null,
   "id": "09a2c818",
   "metadata": {},
   "outputs": [
    {
     "name": "stdout",
     "output_type": "stream",
     "text": [
      "https://news.daum.net/economy\n",
      "<class 'requests.models.Response'>\n",
      "200\n",
      "<class 'bs4.element.ResultSet'> 9\n",
      "https://v.daum.net/v/20250408184905360 ‘관세 직격탄’ 애플 주가 19% ‘뚝’… 갈수록 커지는 ‘T공포’ [관세전쟁 후폭풍]\n",
      "https://v.daum.net/v/20250408183514025 미·중 치킨게임…원화값 1473원대 추락, 글로벌 금융위기 후 최저\n",
      "https://v.daum.net/v/20250408175343664 美·中 관세 폭탄 돌리기…‘새우등’ 한국 경제 불안감 더 커졌다\n",
      "https://v.daum.net/v/20250408175111585 나랏빚 1175조 '역대 최대'…추경 재원 바닥\n",
      "https://v.daum.net/v/20250408174344325 메디젠휴먼케어, \"23andMe 파산..한국 유전체 산업의 위기 아닌 기회\"\n",
      "https://v.daum.net/v/20250408173713085 칩 확보서 데이터센터까지···전 산업에 'AI 고속도로' 깔아야\n",
      "https://v.daum.net/v/20250408173626057 77년 묵은 정부조직, 데이터 중심 대수술···'AI 부총리' 도입을\n",
      "https://v.daum.net/v/20250408161553109 트럼프발 주가폭락에 동아 \"경제적 핵전쟁\" 조선 \"금융위기 후 최악\"\n",
      "https://v.daum.net/v/20250408160526681 공황과 격변의 판도라 박스가 열리다\n"
     ]
    }
   ],
   "source": [
    "url = 'https://news.daum.net/economy'\n",
    "print(url)\n",
    "\n",
    "req_header = {\n",
    "    'user-agent': 'Mozilla/5.0 (Windows NT 10.0; Win64; x64) AppleWebKit/537.36 (KHTML, like Gecko) Chrome/134.0.0.0 Safari/537.36'\n",
    "}\n",
    "\n",
    "res = requests.get(url, headers = req_header)\n",
    "res.encoding = 'utf-8'\n",
    "print(type(res))\n",
    "print(res.status_code)\n",
    "\n",
    "if res.ok:\n",
    "    html = res.text\n",
    "    soup = BeautifulSoup(html, 'html.parser')\n",
    "    \n",
    "    #기사 제목과 기사 추출\n",
    "    #[<li></li>, <li></li>]\n",
    "    li_tag_list = soup.select(\"ul.list_newsheadline2 li\")\n",
    "    print(type(li_tag_list), len(li_tag_list))\n",
    "\n",
    "\n",
    "    for li_tag in li_tag_list:\n",
    "        a_tag = li_tag.find('a')\n",
    "        link = a_tag['href']\n",
    "        # select() => ResultSet, select_opne() => Tag\n",
    "        strong_tags = li_tag.select_one('div.cont_thumb strong.tit_txt')\n",
    "        if strong_tags:\n",
    "            strong_Tag = strong_tags(0)\n",
    "        #strong_tag = li_tag.select_one('div.cont_thumb strong.tit_txt')\n",
    "        title = strong_tag.text.strip()\n",
    "    \n",
    "        print(link, title)\n",
    "\n",
    "else:\n",
    "    print(f'ERROR 코드 = {res.status_code}')\n",
    "\n",
    "\n"
   ]
  },
  {
   "cell_type": "markdown",
   "id": "533d672f",
   "metadata": {},
   "source": [
    "#### 1-2 DAUM 뉴스 기사의 링크와 제목 출력\n",
    "- 여러 개의 section 중 하나를 선택해 url에서 뉴스 기사의 링크와 제목을 출력하는 코드를 함수로 작성하기\n",
    "\n",
    "    #경제 뉴스 URL\n",
    "    url = 'https://news.daum.net/economy'\n",
    "    #사회 뉴스 URL\n",
    "    url = 'https://news.daum.net/society'\n"
   ]
  },
  {
   "cell_type": "code",
   "execution_count": 2,
   "id": "c6cf9d10",
   "metadata": {},
   "outputs": [
    {
     "name": "stdout",
     "output_type": "stream",
     "text": [
      "https://news.daum.net/economy 경제 뉴스\n",
      "<class 'bs4.element.ResultSet'> 9\n",
      "https://v.daum.net/v/20250410162033740 관세 유예에 코스피 6%대 불기둥…역대급 변동성에 살얼음판\n",
      "https://v.daum.net/v/20250410155454376 '앞으로 90일' 시간 번 정부, 美에 내밀 '협상카드' 만든다\n",
      "https://v.daum.net/v/20250410151413363 '상호관세 유예' 한숨 돌린 정부…방위비·관세 '원스톱 빅딜' 지금부터\n",
      "https://v.daum.net/v/20250410144140209 “제주, 대만을 다시 품다”.. 하늘길 열고 바닷길 잇는 정밀 유치전  ‘속도’\n",
      "https://v.daum.net/v/20250410143525847 반도체 관세 미뤄지는데…선수 친 마이크론\n",
      "https://v.daum.net/v/20250410142807285 [체험기] KB 예금토큰으로 '땡겨요' 배달하고 하나로마트 결제까지\n",
      "https://v.daum.net/v/20250410140802090 70년의 나눔과 동행, 홀트아동복지회와 산하시설들의 특별한 생일\n",
      "https://v.daum.net/v/20250410140216849 대한주택건설협회, 부산서 정책 간담회…“지방 주택경기  활성화와 미분양 대책 마련 절실”\n",
      "https://v.daum.net/v/20250410132750716 고 최종현 회장 안목, SK그룹 성장에 큰 역할?\n",
      "https://news.daum.net/society 사회 뉴스\n",
      "<class 'bs4.element.ResultSet'> 9\n",
      "https://v.daum.net/v/20250410161519500 헌재, 박성재 법무부 장관 탄핵 기각...직무 복귀\n",
      "https://v.daum.net/v/20250410160836103 양평 ‘세미원’, 2027년까지 국가정원 승격 추진\n",
      "https://v.daum.net/v/20250410160054684 ‘피의자’ 이완규 헌법재판관 자격 논란, 과거 수사받은 재판관은?\n",
      "https://v.daum.net/v/20250410153831482 인구감소지역 청년 10명 중 6명 \"떠날 의향 있다\"\n",
      "https://v.daum.net/v/20250410152010652 장원영 괴롭힌 ‘탈덕수용소’, 유튜브 수익으로 빌라 구입…”패가망신 할 수도”\n",
      "https://v.daum.net/v/20250410150944069 경북산불로 농축산 피해 1천700억원…농기계 1만대 이상 소실\n",
      "https://v.daum.net/v/20250410145841301 의료 개혁 여야정협의체, 시민·환자 대표 들어가야\n",
      "https://v.daum.net/v/20250410145628173 헌재 \"대통령 권한대행 탄핵정족수는 151석\"…논란 일단락\n",
      "https://v.daum.net/v/20250410145514078 [단독] 마포서 BTS 콘서트 못본다…‘K-POP 공연장’ 투심위 또 탈락[세상&]\n"
     ]
    }
   ],
   "source": [
    "import requests\n",
    "from bs4 import BeautifulSoup\n",
    "\n",
    "section_dict = {'기후/환경':'climate','사회':'society','경제':'economy','정치':'politics',\\\n",
    "             '국재':'world','문화':'culture','생활':'life','IT/과학':'tech','인물':'people'}\n",
    "\n",
    "def print_news(section_name):\n",
    "    section_key = section_dict.get(section_name)\n",
    "    \n",
    "    url = f'https://news.daum.net/{section_key}'\n",
    "    print(f\"{url} {section_name} 뉴스\")\n",
    "\n",
    "    req_header = {\n",
    "        'user-agent': 'Mozilla/5.0 (Windows NT 10.0; Win64; x64) AppleWebKit/537.36 (KHTML, like Gecko) Chrome/134.0.0.0 Safari/537.36'\n",
    "    }\n",
    "        \n",
    "    res = requests.get(url, headers = req_header)\n",
    "    \n",
    "\n",
    "    if res.ok:\n",
    "        res.encoding = 'utf-8'\n",
    "        html = res.text\n",
    "        soup = BeautifulSoup(html, 'html.parser')\n",
    "        \n",
    "        li_tag_list = soup.select(\"ul.list_newsheadline2 li\")\n",
    "        print(type(li_tag_list), len(li_tag_list))\n",
    "\n",
    "\n",
    "        for li_tag in li_tag_list:\n",
    "            a_tag = li_tag.find('a')\n",
    "            link = a_tag['href']\n",
    "            strong_tag = li_tag.select_one('div.cont_thumb strong.tit_txt')\n",
    "            title = strong_tag.text.strip()\n",
    "        \n",
    "            print(link, title)\n",
    "\n",
    "print_news('경제')\n",
    "print_news('사회')\n"
   ]
  },
  {
   "cell_type": "markdown",
   "id": "d5a5c2ad",
   "metadata": {},
   "source": [
    "#### 2-1 Nate 뉴스기사 제목 스크래핑하기\n",
    "- https://news.nate.com/recent?mid=n0100\n",
    "- 최신뉴스, 정치 , 경제, 사회, 세계, IT/과학 6개의 섹션의 뉴스를 출력하는 함수를 생성하여 스크래핑 하기 (이미지, 기사, 제목목)\n",
    "\n",
    "뉴스기사의 Image를 출력 하세요 \n",
    "1) Image의 절대경로와 상대 경로를 합치려면 urljoin 함수를 사용하세요.\n",
    "    from urllib.parse import urljoin\n",
    "\n",
    "2) Image 출력은 Image 클래스와 display 함수를 사용하세요.\n",
    "    from IPython.display import Image, display\n",
    "\n",
    "3) img 엘리먼트의 존재 여부를 체크하신 후에 src 속성의 이미지를 경로를 추출하기\n",
    "  => Image 가 없는 뉴스도 있기 때문에 \n"
   ]
  },
  {
   "cell_type": "code",
   "execution_count": null,
   "id": "7e40f2f7",
   "metadata": {},
   "outputs": [
    {
     "name": "stdout",
     "output_type": "stream",
     "text": [
      "https://news.nate.com/recent?mid=n0100\n",
      "<class 'requests.models.Response'>\n",
      "200\n",
      "20\n",
      "1\n",
      "https://news.nate.com/view/20250410n38764?mid=n0100\n",
      "https://thumbnews.nateimg.co.kr/news90///news.nateimg.co.kr/orgImg/ny/2025/04/10/AKR20250410194037277_01_i.jpg\n"
     ]
    },
    {
     "data": {
      "text/html": [
       "<img src=\"https://thumbnews.nateimg.co.kr/news90///news.nateimg.co.kr/orgImg/ny/2025/04/10/AKR20250410194037277_01_i.jpg\"/>"
      ],
      "text/plain": [
       "<IPython.core.display.Image object>"
      ]
     },
     "metadata": {},
     "output_type": "display_data"
    },
    {
     "name": "stdout",
     "output_type": "stream",
     "text": [
      "가짜 토사물 뿌리고 만취승객에 \"돈 내놔\" 협박…거액 뜯어낸 택시기사\n",
      "2\n",
      "https://news.nate.com/view/20250410n38763?mid=n0100\n",
      "https://thumbnews.nateimg.co.kr/news90///news.nateimg.co.kr/orgImg/na/2025/04/10/6007936_high.jpg\n"
     ]
    },
    {
     "data": {
      "text/html": [
       "<img src=\"https://thumbnews.nateimg.co.kr/news90///news.nateimg.co.kr/orgImg/na/2025/04/10/6007936_high.jpg\"/>"
      ],
      "text/plain": [
       "<IPython.core.display.Image object>"
      ]
     },
     "metadata": {},
     "output_type": "display_data"
    },
    {
     "name": "stdout",
     "output_type": "stream",
     "text": [
      "창원레포츠파크 전 이사장 해임 불복 1심서 승소\n",
      "3\n",
      "https://news.nate.com/view/20250410n38762?mid=n0100\n",
      "https://thumbnews.nateimg.co.kr/news90///news.nateimg.co.kr/orgImg/jo/2025/04/10/ca08cfd9-055b-4924-94fb-abf04a8254c7.jpg\n"
     ]
    },
    {
     "data": {
      "text/html": [
       "<img src=\"https://thumbnews.nateimg.co.kr/news90///news.nateimg.co.kr/orgImg/jo/2025/04/10/ca08cfd9-055b-4924-94fb-abf04a8254c7.jpg\"/>"
      ],
      "text/plain": [
       "<IPython.core.display.Image object>"
      ]
     },
     "metadata": {},
     "output_type": "display_data"
    },
    {
     "name": "stdout",
     "output_type": "stream",
     "text": [
      "피의자 호송 중 성추행…\"경찰 이래도 되나\" 묻자 \"안 되지\"\n",
      "4\n",
      "https://news.nate.com/view/20250410n36735?mid=n0100\n",
      "https://thumbnews.nateimg.co.kr/news90///news.nateimg.co.kr/orgImg/hk/2025/04/10/AA.40117770.4.jpg\n"
     ]
    },
    {
     "data": {
      "text/html": [
       "<img src=\"https://thumbnews.nateimg.co.kr/news90///news.nateimg.co.kr/orgImg/hk/2025/04/10/AA.40117770.4.jpg\"/>"
      ],
      "text/plain": [
       "<IPython.core.display.Image object>"
      ]
     },
     "metadata": {},
     "output_type": "display_data"
    },
    {
     "name": "stdout",
     "output_type": "stream",
     "text": [
      "수산물 업체가 \"얼굴팩 팝니다\"…K뷰티 우후죽순 진출에 '흔들'\n",
      "5\n",
      "https://news.nate.com/view/20250410n38760?mid=n0100\n",
      "https://thumbnews.nateimg.co.kr/news90///news.nateimg.co.kr/orgImg/tr/2025/04/10/d5763a2b-7656-4d09-a52c-4c90b6e9f74f.jpg\n"
     ]
    },
    {
     "data": {
      "text/html": [
       "<img src=\"https://thumbnews.nateimg.co.kr/news90///news.nateimg.co.kr/orgImg/tr/2025/04/10/d5763a2b-7656-4d09-a52c-4c90b6e9f74f.jpg\"/>"
      ],
      "text/plain": [
       "<IPython.core.display.Image object>"
      ]
     },
     "metadata": {},
     "output_type": "display_data"
    },
    {
     "name": "stdout",
     "output_type": "stream",
     "text": [
      "'동백꽃'→'야당'…강하늘, '19금' 작품서 파격 변신 통했다\n",
      "6\n",
      "https://news.nate.com/view/20250410n38759?mid=n0100\n",
      "https://thumbnews.nateimg.co.kr/news90///news.nateimg.co.kr/orgImg/sc/2025/04/10/2025041001000807200106521.jpg\n"
     ]
    },
    {
     "data": {
      "text/html": [
       "<img src=\"https://thumbnews.nateimg.co.kr/news90///news.nateimg.co.kr/orgImg/sc/2025/04/10/2025041001000807200106521.jpg\"/>"
      ],
      "text/plain": [
       "<IPython.core.display.Image object>"
      ]
     },
     "metadata": {},
     "output_type": "display_data"
    },
    {
     "name": "stdout",
     "output_type": "stream",
     "text": [
      "[포토] 송찬의, 스리런포 이어 적시타\n",
      "7\n",
      "https://news.nate.com/view/20250410n38560?mid=n0100\n",
      "https://thumbnews.nateimg.co.kr/news90///news.nateimg.co.kr/orgImg/yt/2025/04/10/PXI20250203021001009_P2.jpg\n"
     ]
    },
    {
     "data": {
      "text/html": [
       "<img src=\"https://thumbnews.nateimg.co.kr/news90///news.nateimg.co.kr/orgImg/yt/2025/04/10/PXI20250203021001009_P2.jpg\"/>"
      ],
      "text/plain": [
       "<IPython.core.display.Image object>"
      ]
     },
     "metadata": {},
     "output_type": "display_data"
    },
    {
     "name": "stdout",
     "output_type": "stream",
     "text": [
      "[속보] 중국 \"미국 영화 수입 편수 적절히 줄일 것\"CCTV\n",
      "8\n",
      "https://news.nate.com/view/20250410n38757?mid=n0100\n",
      "https://thumbnews.nateimg.co.kr/news90///news.nateimg.co.kr/orgImg/pt/2025/04/10/202504101556770044_67f7763556ebc.jpg\n"
     ]
    },
    {
     "data": {
      "text/html": [
       "<img src=\"https://thumbnews.nateimg.co.kr/news90///news.nateimg.co.kr/orgImg/pt/2025/04/10/202504101556770044_67f7763556ebc.jpg\"/>"
      ],
      "text/plain": [
       "<IPython.core.display.Image object>"
      ]
     },
     "metadata": {},
     "output_type": "display_data"
    },
    {
     "name": "stdout",
     "output_type": "stream",
     "text": [
      "'데뷔 첫 3루타+3안타 폭발' 역시 이정후! 타격 10위권 진입…ESPN \"타격왕 차지할 것\"\n",
      "9\n",
      "https://news.nate.com/view/20250410n38756?mid=n0100\n",
      "https://thumbnews.nateimg.co.kr/news90///news.nateimg.co.kr/orgImg/hr/2025/04/10/ams.V01.photo.HDN.P.20190111.201901110000002442109178_P1.jpg\n"
     ]
    },
    {
     "data": {
      "text/html": [
       "<img src=\"https://thumbnews.nateimg.co.kr/news90///news.nateimg.co.kr/orgImg/hr/2025/04/10/ams.V01.photo.HDN.P.20190111.201901110000002442109178_P1.jpg\"/>"
      ],
      "text/plain": [
       "<IPython.core.display.Image object>"
      ]
     },
     "metadata": {},
     "output_type": "display_data"
    },
    {
     "name": "stdout",
     "output_type": "stream",
     "text": [
      "\"내가 취해서 토했다고? 그럴 리 없다\" 만취 승객 속여 1억5천만원 뜯은 택시기사\n",
      "10\n",
      "https://news.nate.com/view/20250410n38755?mid=n0100\n",
      "https://thumbnews.nateimg.co.kr/news90///news.nateimg.co.kr/orgImg/ae/2025/04/10/ae_1744281664724_840231_0.jpg\n"
     ]
    },
    {
     "data": {
      "text/html": [
       "<img src=\"https://thumbnews.nateimg.co.kr/news90///news.nateimg.co.kr/orgImg/ae/2025/04/10/ae_1744281664724_840231_0.jpg\"/>"
      ],
      "text/plain": [
       "<IPython.core.display.Image object>"
      ]
     },
     "metadata": {},
     "output_type": "display_data"
    },
    {
     "name": "stdout",
     "output_type": "stream",
     "text": [
      "포항시, 산학연 협력 체계 가동…국가 AI 컴퓨팅센터 유치 본격화\n",
      "11\n",
      "https://news.nate.com/view/20250410n38754?mid=n0100\n",
      "https://thumbnews.nateimg.co.kr/news90///news.nateimg.co.kr/orgImg/my/2025/04/10/2025041019401888503_l.jpg\n"
     ]
    },
    {
     "data": {
      "text/html": [
       "<img src=\"https://thumbnews.nateimg.co.kr/news90///news.nateimg.co.kr/orgImg/my/2025/04/10/2025041019401888503_l.jpg\"/>"
      ],
      "text/plain": [
       "<IPython.core.display.Image object>"
      ]
     },
     "metadata": {},
     "output_type": "display_data"
    },
    {
     "name": "stdout",
     "output_type": "stream",
     "text": [
      "[MD포토] 간절한 하주석 '전력질주'\n",
      "12\n",
      "https://news.nate.com/view/20250410n38753?mid=n0100\n",
      "https://thumbnews.nateimg.co.kr/news90///news.nateimg.co.kr/orgImg/ns/2025/04/10/NISI20240607_0001569870_web.jpg\n"
     ]
    },
    {
     "data": {
      "text/html": [
       "<img src=\"https://thumbnews.nateimg.co.kr/news90///news.nateimg.co.kr/orgImg/ns/2025/04/10/NISI20240607_0001569870_web.jpg\"/>"
      ],
      "text/plain": [
       "<IPython.core.display.Image object>"
      ]
     },
     "metadata": {},
     "output_type": "display_data"
    },
    {
     "name": "stdout",
     "output_type": "stream",
     "text": [
      "최태원, 대만 TSMC와 회동…HBM 리더십 이어간다\n",
      "13\n",
      "https://news.nate.com/view/20250410n38752?mid=n0100\n",
      "https://thumbnews.nateimg.co.kr/news90///news.nateimg.co.kr/orgImg/yt/2025/04/10/AKR20250410165400005_01_i.jpg\n"
     ]
    },
    {
     "data": {
      "text/html": [
       "<img src=\"https://thumbnews.nateimg.co.kr/news90///news.nateimg.co.kr/orgImg/yt/2025/04/10/AKR20250410165400005_01_i.jpg\"/>"
      ],
      "text/plain": [
       "<IPython.core.display.Image object>"
      ]
     },
     "metadata": {},
     "output_type": "display_data"
    },
    {
     "name": "stdout",
     "output_type": "stream",
     "text": [
      "칸영화제 초청작에 한국 장편 0개…경쟁부문은 3년째 불발\n",
      "14\n",
      "https://news.nate.com/view/20250410n38751?mid=n0100\n",
      "https://thumbnews.nateimg.co.kr/news90///news.nateimg.co.kr/orgImg/mi/2025/04/10/p1065579815058723_831_thum.jpg\n"
     ]
    },
    {
     "data": {
      "text/html": [
       "<img src=\"https://thumbnews.nateimg.co.kr/news90///news.nateimg.co.kr/orgImg/mi/2025/04/10/p1065579815058723_831_thum.jpg\"/>"
      ],
      "text/plain": [
       "<IPython.core.display.Image object>"
      ]
     },
     "metadata": {},
     "output_type": "display_data"
    },
    {
     "name": "stdout",
     "output_type": "stream",
     "text": [
      "셀바스AI, '셀바스' 단일 브랜드 체계 도입\n",
      "15\n",
      "https://news.nate.com/view/20250410n38750?mid=n0100\n",
      "https://thumbnews.nateimg.co.kr/news90///news.nateimg.co.kr/orgImg/kz/2025/04/10/news-p.v1.20250410.0cbeb3f8dcc74ac6b73160b2244c3898_P1.jpg\n"
     ]
    },
    {
     "data": {
      "text/html": [
       "<img src=\"https://thumbnews.nateimg.co.kr/news90///news.nateimg.co.kr/orgImg/kz/2025/04/10/news-p.v1.20250410.0cbeb3f8dcc74ac6b73160b2244c3898_P1.jpg\"/>"
      ],
      "text/plain": [
       "<IPython.core.display.Image object>"
      ]
     },
     "metadata": {},
     "output_type": "display_data"
    },
    {
     "name": "stdout",
     "output_type": "stream",
     "text": [
      "하요셉, '소꿉친구 대표님과 계약결혼' 주연 확정\n",
      "16\n",
      "https://news.nate.com/view/20250410n38749?mid=n0100\n",
      "https://thumbnews.nateimg.co.kr/news90///news.nateimg.co.kr/orgImg/is/2025/04/10/isp20250410000442.800x.8.jpg\n"
     ]
    },
    {
     "data": {
      "text/html": [
       "<img src=\"https://thumbnews.nateimg.co.kr/news90///news.nateimg.co.kr/orgImg/is/2025/04/10/isp20250410000442.800x.8.jpg\"/>"
      ],
      "text/plain": [
       "<IPython.core.display.Image object>"
      ]
     },
     "metadata": {},
     "output_type": "display_data"
    },
    {
     "name": "stdout",
     "output_type": "stream",
     "text": [
      "[포토]김현수, 이번엔 나야!\n",
      "17\n",
      "https://news.nate.com/view/20250410n38748?mid=n0100\n",
      "https://thumbnews.nateimg.co.kr/news90///news.nateimg.co.kr/orgImg/sw/2025/04/10/20250410519410.jpg\n"
     ]
    },
    {
     "data": {
      "text/html": [
       "<img src=\"https://thumbnews.nateimg.co.kr/news90///news.nateimg.co.kr/orgImg/sw/2025/04/10/20250410519410.jpg\"/>"
      ],
      "text/plain": [
       "<IPython.core.display.Image object>"
      ]
     },
     "metadata": {},
     "output_type": "display_data"
    },
    {
     "name": "stdout",
     "output_type": "stream",
     "text": [
      "남보라, 난소 나이에 충격 \"최소 3명 낳고싶은데…\" 결과는 (편스토랑)\n",
      "18\n",
      "https://news.nate.com/view/20250410n38747?mid=n0100\n",
      "https://thumbnews.nateimg.co.kr/news90///news.nateimg.co.kr/orgImg/mk/2025/04/10/news-p.v1.20250410.157bdae5bc424d3988d7cf1104308aa3_P1.jpeg\n"
     ]
    },
    {
     "data": {
      "text/html": [
       "<img src=\"https://thumbnews.nateimg.co.kr/news90///news.nateimg.co.kr/orgImg/mk/2025/04/10/news-p.v1.20250410.157bdae5bc424d3988d7cf1104308aa3_P1.jpeg\"/>"
      ],
      "text/plain": [
       "<IPython.core.display.Image object>"
      ]
     },
     "metadata": {},
     "output_type": "display_data"
    },
    {
     "name": "stdout",
     "output_type": "stream",
     "text": [
      "궤도 바꾼 트럼프, 중국만 '125%' 관세폭탄…한국은 그나마 석달 벌었다\n",
      "19\n",
      "https://news.nate.com/view/20250410n38746?mid=n0100\n",
      "https://thumbnews.nateimg.co.kr/news90///news.nateimg.co.kr/orgImg/su/2025/04/10/740769_1181274_3851.jpg\n"
     ]
    },
    {
     "data": {
      "text/html": [
       "<img src=\"https://thumbnews.nateimg.co.kr/news90///news.nateimg.co.kr/orgImg/su/2025/04/10/740769_1181274_3851.jpg\"/>"
      ],
      "text/plain": [
       "<IPython.core.display.Image object>"
      ]
     },
     "metadata": {},
     "output_type": "display_data"
    },
    {
     "name": "stdout",
     "output_type": "stream",
     "text": [
      "[포토S] 아쉬워하는 하영민\n",
      "20\n",
      "https://news.nate.com/view/20250410n38745?mid=n0100\n",
      "https://thumbnews.nateimg.co.kr/news90///news.nateimg.co.kr/orgImg/aa/2025/04/10/news-p.v1.20250410.c1f5ab4af02e4679acb17fb31c832c8a_P1.jpg\n"
     ]
    },
    {
     "data": {
      "text/html": [
       "<img src=\"https://thumbnews.nateimg.co.kr/news90///news.nateimg.co.kr/orgImg/aa/2025/04/10/news-p.v1.20250410.c1f5ab4af02e4679acb17fb31c832c8a_P1.jpg\"/>"
      ],
      "text/plain": [
       "<IPython.core.display.Image object>"
      ]
     },
     "metadata": {},
     "output_type": "display_data"
    },
    {
     "name": "stdout",
     "output_type": "stream",
     "text": [
      "김현수의 안타 [MK포토]\n"
     ]
    }
   ],
   "source": [
    "import requests\n",
    "from bs4 import BeautifulSoup\n",
    "from urllib.parse import urljoin\n",
    "from IPython.display import Image, display\n",
    "\n",
    "url = 'https://news.nate.com/recent?mid=n0100'\n",
    "print(url)\n",
    "\n",
    "req_header = {\n",
    "    'user-agent': 'Mozilla/5.0 (Windows NT 10.0; Win64; x64) AppleWebKit/537.36 (KHTML, like Gecko) Chrome/135.0.0.0 Safari/537.36'\n",
    "}\n",
    "\n",
    "res = requests.get(url, headers=req_header)\n",
    "print(type(res))\n",
    "print(res.status_code)\n",
    "\n",
    "if res.ok:\n",
    "    res.encoding = 'euc-kr'\n",
    "    html = res.text\n",
    "    soup = BeautifulSoup(res.text, 'html.parser')\n",
    "    \n",
    "    tags = soup.select(\"div.postListType.noListTitle div.mlt01\") #자손을 가져와야 해서 div 옆에 공백을 띄움\n",
    "    print(len(tags))\n",
    "\n",
    "    for idx, div_tag in enumerate(tags,1):\n",
    "        print(f'{idx}')\n",
    "        a_tag = div_tag.find('a')\n",
    "        a_join_url = urljoin(url, a_tag['href'])\n",
    "        print(a_join_url)\n",
    "\n",
    "        img_tag = div_tag.select_one('span.ib img')\n",
    "        if img_tag:\n",
    "            photo_url = urljoin(url, img_tag['src'])\n",
    "            print(photo_url)\n",
    "            display(Image(url=photo_url))\n",
    "       \n",
    "        h2_tag = div_tag.select_one('span.tb h2.tit')\n",
    "        title = h2_tag.text\n",
    "        print(title)\n",
    "else:\n",
    "    print(f'ERROR 코드 = {res.status_code}')\n"
   ]
  },
  {
   "cell_type": "markdown",
   "id": "735345c2",
   "metadata": {},
   "source": [
    "#### 2-2 Nate 뉴스 제목과 Image 출력하기"
   ]
  },
  {
   "cell_type": "code",
   "execution_count": 24,
   "id": "f9bf0036",
   "metadata": {},
   "outputs": [
    {
     "name": "stdout",
     "output_type": "stream",
     "text": [
      "{'최신뉴스': 100, '정치': 200, '경제': 300, '사회': 400, '세계': 500, 'IT/과학': 600}\n",
      "https://news.nate.com/recent?mid=n0600\n",
      "<class 'requests.models.Response'>\n",
      "200\n",
      "https://news.nate.com/recent?mid=n0600 IT/과학 뉴스\n",
      "20\n",
      "-----------------------------1\n",
      "https://news.nate.com/view/20250410n36027?mid=n0600\n",
      "https://thumbnews.nateimg.co.kr/news90///news.nateimg.co.kr/orgImg/hk/2025/04/10/AA.40117939.1.jpg\n"
     ]
    },
    {
     "data": {
      "text/html": [
       "<img src=\"https://thumbnews.nateimg.co.kr/news90///news.nateimg.co.kr/orgImg/hk/2025/04/10/AA.40117939.1.jpg\"/>"
      ],
      "text/plain": [
       "<IPython.core.display.Image object>"
      ]
     },
     "metadata": {},
     "output_type": "display_data"
    },
    {
     "name": "stdout",
     "output_type": "stream",
     "text": [
      "정부의 '세계 1등' 고질병에…'설익은 AI 규제' 공포 커진다\n",
      "-----------------------------2\n",
      "https://news.nate.com/view/20250410n38566?mid=n0600\n",
      "https://thumbnews.nateimg.co.kr/news90///news.nateimg.co.kr/orgImg/hk/2025/04/10/01.39654449.1.jpg\n"
     ]
    },
    {
     "data": {
      "text/html": [
       "<img src=\"https://thumbnews.nateimg.co.kr/news90///news.nateimg.co.kr/orgImg/hk/2025/04/10/01.39654449.1.jpg\"/>"
      ],
      "text/plain": [
       "<IPython.core.display.Image object>"
      ]
     },
     "metadata": {},
     "output_type": "display_data"
    },
    {
     "name": "stdout",
     "output_type": "stream",
     "text": [
      "'500만원짜리 아이폰? 글쎄'…갤럭시 '절호의 기회' 왔나\n",
      "-----------------------------3\n",
      "https://news.nate.com/view/20250410n35278?mid=n0600\n",
      "https://thumbnews.nateimg.co.kr/news90///news.nateimg.co.kr/orgImg/mk/2025/04/10/20250411_01160129000004_S00.jpg\n"
     ]
    },
    {
     "data": {
      "text/html": [
       "<img src=\"https://thumbnews.nateimg.co.kr/news90///news.nateimg.co.kr/orgImg/mk/2025/04/10/20250411_01160129000004_S00.jpg\"/>"
      ],
      "text/plain": [
       "<IPython.core.display.Image object>"
      ]
     },
     "metadata": {},
     "output_type": "display_data"
    },
    {
     "name": "stdout",
     "output_type": "stream",
     "text": [
      "AI 스타트업 투자 전념하는 윤송이\n",
      "-----------------------------4\n",
      "https://news.nate.com/view/20250410n35061?mid=n0600\n",
      "https://thumbnews.nateimg.co.kr/news90///news.nateimg.co.kr/orgImg/mk/2025/04/10/20250411_01160112000002_S00.jpg\n"
     ]
    },
    {
     "data": {
      "text/html": [
       "<img src=\"https://thumbnews.nateimg.co.kr/news90///news.nateimg.co.kr/orgImg/mk/2025/04/10/20250411_01160112000002_S00.jpg\"/>"
      ],
      "text/plain": [
       "<IPython.core.display.Image object>"
      ]
     },
     "metadata": {},
     "output_type": "display_data"
    },
    {
     "name": "stdout",
     "output_type": "stream",
     "text": [
      "\"가짜 인수 시도 멈춰라\"…올트먼, 머스크에 맞소송\n",
      "-----------------------------5\n",
      "https://news.nate.com/view/20250410n35053?mid=n0600\n",
      "https://thumbnews.nateimg.co.kr/news90///news.nateimg.co.kr/orgImg/mk/2025/04/10/20250411_01160112000001_L00.jpg\n"
     ]
    },
    {
     "data": {
      "text/html": [
       "<img src=\"https://thumbnews.nateimg.co.kr/news90///news.nateimg.co.kr/orgImg/mk/2025/04/10/20250411_01160112000001_L00.jpg\"/>"
      ],
      "text/plain": [
       "<IPython.core.display.Image object>"
      ]
     },
     "metadata": {},
     "output_type": "display_data"
    },
    {
     "name": "stdout",
     "output_type": "stream",
     "text": [
      "비싸고 느린 LLM 비켜…가성비 AI 인기\n",
      "-----------------------------6\n",
      "https://news.nate.com/view/20250410n33487?mid=n0600\n",
      "https://thumbnews.nateimg.co.kr/news90///news.nateimg.co.kr/orgImg/mk/2025/04/10/20250411_01160114000001_L00.jpg\n"
     ]
    },
    {
     "data": {
      "text/html": [
       "<img src=\"https://thumbnews.nateimg.co.kr/news90///news.nateimg.co.kr/orgImg/mk/2025/04/10/20250411_01160114000001_L00.jpg\"/>"
      ],
      "text/plain": [
       "<IPython.core.display.Image object>"
      ]
     },
     "metadata": {},
     "output_type": "display_data"
    },
    {
     "name": "stdout",
     "output_type": "stream",
     "text": [
      "[IR52 장영실상] 한번 충전에 700㎞ 주행…삼성SDI 배터리기술 대통령상 받아\n",
      "-----------------------------7\n",
      "https://news.nate.com/view/20250410n38459?mid=n0600\n",
      "https://thumbnews.nateimg.co.kr/news90///news.nateimg.co.kr/orgImg/yt/2025/04/10/PCM20231028000004017_P2.jpg\n"
     ]
    },
    {
     "data": {
      "text/html": [
       "<img src=\"https://thumbnews.nateimg.co.kr/news90///news.nateimg.co.kr/orgImg/yt/2025/04/10/PCM20231028000004017_P2.jpg\"/>"
      ],
      "text/plain": [
       "<IPython.core.display.Image object>"
      ]
     },
     "metadata": {},
     "output_type": "display_data"
    },
    {
     "name": "stdout",
     "output_type": "stream",
     "text": [
      "HLB제넥스, HLB뉴로토브 자회사 편입…\"뇌 질환 치료제 개발\"\n",
      "-----------------------------8\n",
      "https://news.nate.com/view/20250410n38427?mid=n0600\n",
      "https://thumbnews.nateimg.co.kr/news90///news.nateimg.co.kr/orgImg/mt/2025/04/10/2025041017061010720_1.jpg\n"
     ]
    },
    {
     "data": {
      "text/html": [
       "<img src=\"https://thumbnews.nateimg.co.kr/news90///news.nateimg.co.kr/orgImg/mt/2025/04/10/2025041017061010720_1.jpg\"/>"
      ],
      "text/plain": [
       "<IPython.core.display.Image object>"
      ]
     },
     "metadata": {},
     "output_type": "display_data"
    },
    {
     "name": "stdout",
     "output_type": "stream",
     "text": [
      "네이버클라우드 김유원 \"AI 경쟁, 기술주권 확보해야\"\n",
      "-----------------------------9\n",
      "https://news.nate.com/view/20250410n38401?mid=n0600\n",
      "https://thumbnews.nateimg.co.kr/news90///news.nateimg.co.kr/orgImg/ed/2025/04/10/PS25041001407.jpg\n"
     ]
    },
    {
     "data": {
      "text/html": [
       "<img src=\"https://thumbnews.nateimg.co.kr/news90///news.nateimg.co.kr/orgImg/ed/2025/04/10/PS25041001407.jpg\"/>"
      ],
      "text/plain": [
       "<IPython.core.display.Image object>"
      ]
     },
     "metadata": {},
     "output_type": "display_data"
    },
    {
     "name": "stdout",
     "output_type": "stream",
     "text": [
      "HLB제넥스, 난치질환 치료제 개발사 HLB뉴로토브 자회사 편입\n",
      "-----------------------------10\n",
      "https://news.nate.com/view/20250410n36904?mid=n0600\n",
      "https://thumbnews.nateimg.co.kr/news90///news.nateimg.co.kr/orgImg/fn/2025/04/10/202504101827569512_l.jpg\n"
     ]
    },
    {
     "data": {
      "text/html": [
       "<img src=\"https://thumbnews.nateimg.co.kr/news90///news.nateimg.co.kr/orgImg/fn/2025/04/10/202504101827569512_l.jpg\"/>"
      ],
      "text/plain": [
       "<IPython.core.display.Image object>"
      ]
     },
     "metadata": {},
     "output_type": "display_data"
    },
    {
     "name": "stdout",
     "output_type": "stream",
     "text": [
      "대형수주 늘고 고환율 수혜…삼성바이오 실적 경신 이어간다\n",
      "-----------------------------11\n",
      "https://news.nate.com/view/20250410n38285?mid=n0600\n",
      "제넨바이오 \"감사의견 '의견거절' 관련 이의신청서 제출\"\n",
      "-----------------------------12\n",
      "https://news.nate.com/view/20250410n25957?mid=n0600\n",
      "https://thumbnews.nateimg.co.kr/news90///news.nateimg.co.kr/orgImg/ed/2025/04/10/PS25041001383.jpg\n"
     ]
    },
    {
     "data": {
      "text/html": [
       "<img src=\"https://thumbnews.nateimg.co.kr/news90///news.nateimg.co.kr/orgImg/ed/2025/04/10/PS25041001383.jpg\"/>"
      ],
      "text/plain": [
       "<IPython.core.display.Image object>"
      ]
     },
     "metadata": {},
     "output_type": "display_data"
    },
    {
     "name": "stdout",
     "output_type": "stream",
     "text": [
      "LG U+ 무너, 일본 6개 도시 순회 팝업…\"글로벌 IP 사업 확대\"\n",
      "-----------------------------13\n",
      "https://news.nate.com/view/20250410n24081?mid=n0600\n",
      "https://thumbnews.nateimg.co.kr/news90///news.nateimg.co.kr/orgImg/ed/2025/04/10/PS25041001381.jpg\n"
     ]
    },
    {
     "data": {
      "text/html": [
       "<img src=\"https://thumbnews.nateimg.co.kr/news90///news.nateimg.co.kr/orgImg/ed/2025/04/10/PS25041001381.jpg\"/>"
      ],
      "text/plain": [
       "<IPython.core.display.Image object>"
      ]
     },
     "metadata": {},
     "output_type": "display_data"
    },
    {
     "name": "stdout",
     "output_type": "stream",
     "text": [
      "KAIST-지드래곤, 세계 최초 '우주 음원 송출' 프로젝트 성공\n",
      "-----------------------------14\n",
      "https://news.nate.com/view/20250410n38104?mid=n0600\n",
      "https://thumbnews.nateimg.co.kr/news90///news.nateimg.co.kr/orgImg/in/2025/04/10/2120a9691a41a2.jpg\n"
     ]
    },
    {
     "data": {
      "text/html": [
       "<img src=\"https://thumbnews.nateimg.co.kr/news90///news.nateimg.co.kr/orgImg/in/2025/04/10/2120a9691a41a2.jpg\"/>"
      ],
      "text/plain": [
       "<IPython.core.display.Image object>"
      ]
     },
     "metadata": {},
     "output_type": "display_data"
    },
    {
     "name": "stdout",
     "output_type": "stream",
     "text": [
      "\"美, 엔비디아 H20 칩 中 수출 규제 계획 철회\"\n",
      "-----------------------------15\n",
      "https://news.nate.com/view/20250410n10244?mid=n0600\n",
      "https://thumbnews.nateimg.co.kr/news90///news.nateimg.co.kr/orgImg/ed/2025/04/10/PS25041001377.jpg\n"
     ]
    },
    {
     "data": {
      "text/html": [
       "<img src=\"https://thumbnews.nateimg.co.kr/news90///news.nateimg.co.kr/orgImg/ed/2025/04/10/PS25041001377.jpg\"/>"
      ],
      "text/plain": [
       "<IPython.core.display.Image object>"
      ]
     },
     "metadata": {},
     "output_type": "display_data"
    },
    {
     "name": "stdout",
     "output_type": "stream",
     "text": [
      "멜론의 친환경 프로젝트 '숲;트리밍', 서울에 13번째 숲 만들다\n",
      "-----------------------------16\n",
      "https://news.nate.com/view/20250410n38081?mid=n0600\n",
      "https://thumbnews.nateimg.co.kr/news90///news.nateimg.co.kr/orgImg/ii/2025/04/10/9c0eaca0b56b470a-thumbnail-1920x1080-70.jpg\n"
     ]
    },
    {
     "data": {
      "text/html": [
       "<img src=\"https://thumbnews.nateimg.co.kr/news90///news.nateimg.co.kr/orgImg/ii/2025/04/10/9c0eaca0b56b470a-thumbnail-1920x1080-70.jpg\"/>"
      ],
      "text/plain": [
       "<IPython.core.display.Image object>"
      ]
     },
     "metadata": {},
     "output_type": "display_data"
    },
    {
     "name": "stdout",
     "output_type": "stream",
     "text": [
      "[생활 속 IT] 라인에서 실시간 통역 기능 사용하는 방법\n",
      "-----------------------------17\n",
      "https://news.nate.com/view/20250410n38058?mid=n0600\n",
      "엔케이맥스, 개선기간 종료…\"15일 이내 이행내역서 제출해야\"\n",
      "-----------------------------18\n",
      "https://news.nate.com/view/20250410n38056?mid=n0600\n",
      "https://thumbnews.nateimg.co.kr/news90///news.nateimg.co.kr/orgImg/dg/2025/04/10/2025041015575906661a7a3ff81e611216818188.jpg\n"
     ]
    },
    {
     "data": {
      "text/html": [
       "<img src=\"https://thumbnews.nateimg.co.kr/news90///news.nateimg.co.kr/orgImg/dg/2025/04/10/2025041015575906661a7a3ff81e611216818188.jpg\"/>"
      ],
      "text/plain": [
       "<IPython.core.display.Image object>"
      ]
     },
     "metadata": {},
     "output_type": "display_data"
    },
    {
     "name": "stdout",
     "output_type": "stream",
     "text": [
      "위메이드, '나이트 크로우' 서비스 2주년 기념 업데이트 사전예약 실시\n",
      "-----------------------------19\n",
      "https://news.nate.com/view/20250410n38054?mid=n0600\n",
      "https://thumbnews.nateimg.co.kr/news90///news.nateimg.co.kr/orgImg/dg/2025/04/10/2025041015451303453a7a3ff81e611216818188.jpg\n"
     ]
    },
    {
     "data": {
      "text/html": [
       "<img src=\"https://thumbnews.nateimg.co.kr/news90///news.nateimg.co.kr/orgImg/dg/2025/04/10/2025041015451303453a7a3ff81e611216818188.jpg\"/>"
      ],
      "text/plain": [
       "<IPython.core.display.Image object>"
      ]
     },
     "metadata": {},
     "output_type": "display_data"
    },
    {
     "name": "stdout",
     "output_type": "stream",
     "text": [
      "그라비티, 리메이크작 '스노우 브라더스 2 스페셜' 글로벌 정식 출시\n",
      "-----------------------------20\n",
      "https://news.nate.com/view/20250410n37864?mid=n0600\n",
      "https://thumbnews.nateimg.co.kr/news90///news.nateimg.co.kr/orgImg/aj/2025/04/10/20250410190235427248.jpeg\n"
     ]
    },
    {
     "data": {
      "text/html": [
       "<img src=\"https://thumbnews.nateimg.co.kr/news90///news.nateimg.co.kr/orgImg/aj/2025/04/10/20250410190235427248.jpeg\"/>"
      ],
      "text/plain": [
       "<IPython.core.display.Image object>"
      ]
     },
     "metadata": {},
     "output_type": "display_data"
    },
    {
     "name": "stdout",
     "output_type": "stream",
     "text": [
      "카카오엔터 매각설에 \"재무 투자자 교체가 와전된 것\"\n"
     ]
    }
   ],
   "source": [
    "import requests\n",
    "from bs4 import BeautifulSoup\n",
    "from urllib.parse import urljoin\n",
    "from IPython.display import Image, display\n",
    "\n",
    "section_dict = {'최신뉴스':100,'정치':200,'경제':300,'사회':400,\\\n",
    "                '세계':500,'IT/과학':600}\n",
    "print(section_dict)\n",
    "\n",
    "def print_news(section_name):    \n",
    "    m_id = section_dict[section_name]\n",
    "\n",
    "    url = f'https://news.nate.com/recent?mid=n0{m_id}'\n",
    "    print(url)\n",
    "\n",
    "    req_header = {\n",
    "        'user-agent': 'Mozilla/5.0 (Windows NT 10.0; Win64; x64) AppleWebKit/537.36 (KHTML, like Gecko) Chrome/104.0.0.0 Safari/537.36'\n",
    "    }\n",
    "\n",
    "    res = requests.get(url, headers=req_header)\n",
    "    print(type(res))\n",
    "    print(res.status_code)\n",
    "\n",
    "    if res.ok:\n",
    "        res.encoding = 'euc-kr'\n",
    "        html = res.text\n",
    "        soup = BeautifulSoup(html, 'html.parser')\n",
    "\n",
    "        print(f'{url} {section_name} 뉴스')   \n",
    "\n",
    "        tags = soup.select(\"div.postListType.noListTitle div.mlt01\")\n",
    "        print(len(tags))\n",
    "\n",
    "        for idx,div_tag in enumerate(tags,1): \n",
    "            print(f'-----------------------------{idx}')       \n",
    "            a_tag = div_tag.find('a')\n",
    "            a_join_url = urljoin(url,a_tag['href'])\n",
    "            print(a_join_url)\n",
    "\n",
    "            img_tag = div_tag.select_one('span.ib img')\n",
    "            if img_tag:\n",
    "                photo_url = urljoin(url,img_tag['src'])\n",
    "                print(photo_url)\n",
    "                display(Image(url=photo_url))\n",
    "\n",
    "            h2_tag = div_tag.select_one('span.tb h2.tit')\n",
    "            title = h2_tag.text\n",
    "            print(title)\n",
    "\n",
    "    else:\n",
    "        print(f'에러코드 = {res.status_code}')\n",
    "\n",
    "print_news('IT/과학')"
   ]
  }
 ],
 "metadata": {
  "kernelspec": {
   "display_name": "base",
   "language": "python",
   "name": "python3"
  },
  "language_info": {
   "codemirror_mode": {
    "name": "ipython",
    "version": 3
   },
   "file_extension": ".py",
   "mimetype": "text/x-python",
   "name": "python",
   "nbconvert_exporter": "python",
   "pygments_lexer": "ipython3",
   "version": "3.12.7"
  }
 },
 "nbformat": 4,
 "nbformat_minor": 5
}
