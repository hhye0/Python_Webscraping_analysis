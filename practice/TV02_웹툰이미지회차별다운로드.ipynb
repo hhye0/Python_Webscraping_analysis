{
 "cells": [
  {
   "cell_type": "markdown",
   "metadata": {},
   "source": [
    "### 특정 웹툰 페이지의 모든 image를 다운로드 받기\n",
    "* img 폴더를 생성하고 그 아래에 파일을 저장하기\n",
    "* pathlib 의 Path 사용하여 디렉토리 생성하기"
   ]
  },
  {
   "cell_type": "code",
   "execution_count": null,
   "metadata": {},
   "outputs": [],
   "source": [
    "import requests\n",
    "from bs4 import BeautifulSoup\n",
    "from pathlib import Path\n",
    "\n",
    "def download_one_episode(title,no,url):\n",
    "    \n",
    "    req_header = {'referer': url}\n",
    "    \n",
    "    res = requests.get(url)\n",
    "    print(res.ok)\n",
    "    if res.ok:\n",
    "        soup = BeautifulSoup(res.text, 'html.parser')\n",
    "               \n",
    "        img_tags = soup.select(\"img[src*='IMAG01']\")\n",
    "        # list comprehension 사용\n",
    "        imgurl_list = [img['src'] for img in img_tags]\n",
    "        print(len(imgurl_list))\n",
    "        \n",
    "        save_dir = Path('img') / title / str(no)\n",
    "        save_dir.mkdir(parents=True, exist_ok=True)\n",
    "\n",
    "        for idx,img_url in enumerate(imgurl_list,1):\n",
    "            res = requests.get(img_url,headers=req_header)\n",
    "            res.raise_for_status()\n",
    "\n",
    "            file_name = Path(img_url).name\n",
    "            save_path = save_dir / file_name\n",
    "            save_path.write_bytes(res.content)\n",
    "            print(f'다운로드 완료: {save_path} ({save_path.stat().st_size:,} bytes)')\n",
    "                \n",
    "if __name__ == '__main__':                \n",
    "    download_one_episode('낢이사는이야기',46,'https://comic.naver.com/webtoon/detail?titleId=833255&no=47&week=tue')"
   ]
  },
  {
   "cell_type": "markdown",
   "metadata": {},
   "source": [
    "#### 하나의 네이버 웹툰과 여러개의 회차에 대한 Image 다운로드 하기\n",
    "* 첫번째 Page의 회차의 url를 가져오기 ( image 다운로드는 호출 않함 )"
   ]
  },
  {
   "cell_type": "code",
   "execution_count": 2,
   "metadata": {},
   "outputs": [
    {
     "name": "stdout",
     "output_type": "stream",
     "text": [
      "200\n",
      "https://comic.naver.com/webtoon/detail?titleId=826419&no=46\n",
      "https://comic.naver.com/webtoon/detail?titleId=826419&no=45\n",
      "https://comic.naver.com/webtoon/detail?titleId=826419&no=44\n",
      "https://comic.naver.com/webtoon/detail?titleId=826419&no=43\n",
      "https://comic.naver.com/webtoon/detail?titleId=826419&no=42\n",
      "https://comic.naver.com/webtoon/detail?titleId=826419&no=41\n",
      "https://comic.naver.com/webtoon/detail?titleId=826419&no=40\n",
      "https://comic.naver.com/webtoon/detail?titleId=826419&no=39\n",
      "https://comic.naver.com/webtoon/detail?titleId=826419&no=38\n",
      "https://comic.naver.com/webtoon/detail?titleId=826419&no=37\n",
      "https://comic.naver.com/webtoon/detail?titleId=826419&no=36\n",
      "https://comic.naver.com/webtoon/detail?titleId=826419&no=35\n",
      "https://comic.naver.com/webtoon/detail?titleId=826419&no=34\n",
      "https://comic.naver.com/webtoon/detail?titleId=826419&no=33\n",
      "https://comic.naver.com/webtoon/detail?titleId=826419&no=32\n",
      "https://comic.naver.com/webtoon/detail?titleId=826419&no=31\n",
      "https://comic.naver.com/webtoon/detail?titleId=826419&no=30\n",
      "https://comic.naver.com/webtoon/detail?titleId=826419&no=29\n",
      "https://comic.naver.com/webtoon/detail?titleId=826419&no=28\n",
      "https://comic.naver.com/webtoon/detail?titleId=826419&no=27\n"
     ]
    }
   ],
   "source": [
    "\n",
    "import requests\n",
    "from bs4 import BeautifulSoup\n",
    "from pprint import pprint\n",
    "from urllib.parse import urlparse, parse_qs\n",
    "\n",
    "def download_all_episode(title,episode_url):\n",
    "    # url을 파싱해서 titleId를 알아내기\n",
    "    parsed_url = urlparse(episode_url)\n",
    "    query_params = parse_qs(parsed_url.query)\n",
    "    title_id = query_params.get('titleId', [''])[0]\n",
    "    \n",
    "    api_url = f'https://comic.naver.com/api/article/list?titleId={title_id}'\n",
    "    res = requests.get(api_url)\n",
    "    print(res.status_code)    \n",
    "    if res.ok:\n",
    "        #pprint(res.json()['articleList'])\n",
    "        for article in res.json()['articleList']:\n",
    "            no = article['no']\n",
    "            detail_url = f'https://comic.naver.com/webtoon/detail?titleId={title_id}&no={no}'\n",
    "            print(detail_url)\n",
    "        \n",
    "\n",
    "if __name__ == '__main__': \n",
    "    download_all_episode('롤플레잉','https://comic.naver.com/webtoon/list?titleId=826419')"
   ]
  },
  {
   "cell_type": "code",
   "execution_count": 6,
   "metadata": {},
   "outputs": [
    {
     "name": "stdout",
     "output_type": "stream",
     "text": [
      "826419\n"
     ]
    }
   ],
   "source": [
    "from urllib.parse import urlparse, parse_qs\n",
    "\n",
    "\"\"\"url에 titleId를 반환하는 함수\"\"\"\n",
    "def get_title_id(url):\n",
    "    parsed_url = urlparse(url)\n",
    "    query_params = parse_qs(parsed_url.query)\n",
    "    title_id = query_params.get('titleId', [''])[0]\n",
    "    return title_id\n",
    "\n",
    "#테스트 하기\n",
    "url = 'https://comic.naver.com/webtoon/list?titleId=826419'\n",
    "print(get_title_id(url))  # 출력: 826419"
   ]
  },
  {
   "cell_type": "code",
   "execution_count": 7,
   "metadata": {},
   "outputs": [
    {
     "name": "stdout",
     "output_type": "stream",
     "text": [
      "총 49개의 항목을 20개씩 출력할 때 필요한 페이지 수: 3\n"
     ]
    }
   ],
   "source": [
    "def calculate_pages(total_items, items_per_page=20):\n",
    "    \"\"\"총 페이지 수 계산 함수\"\"\"\n",
    "    return (total_items + items_per_page - 1) // items_per_page\n",
    "\n",
    "# 예제 사용\n",
    "total_items = 49\n",
    "items_per_page = 20\n",
    "\n",
    "total_pages = calculate_pages(total_items)\n",
    "print(f\"총 {total_items}개의 항목을 {items_per_page}개씩 출력할 때 필요한 페이지 수: {total_pages}\")\n",
    "# 출력: 총 49개의 항목을 20개씩 출력할 때 필요한 페이지 수: 3"
   ]
  },
  {
   "cell_type": "markdown",
   "metadata": {},
   "source": [
    "#### 하나의 네이버 웹툰과 여러개의 회차에 대한 Image 다운로드 하기\n",
    "* 모든 Page의 회차 url를 가져오기 ( image 다운로드는 호출 않함 )"
   ]
  },
  {
   "cell_type": "code",
   "execution_count": 8,
   "metadata": {},
   "outputs": [
    {
     "name": "stdout",
     "output_type": "stream",
     "text": [
      "{'page': 1}\n",
      "https://comic.naver.com/webtoon/detail?titleId=826419&no=46\n",
      "https://comic.naver.com/webtoon/detail?titleId=826419&no=45\n",
      "https://comic.naver.com/webtoon/detail?titleId=826419&no=44\n",
      "https://comic.naver.com/webtoon/detail?titleId=826419&no=43\n",
      "https://comic.naver.com/webtoon/detail?titleId=826419&no=42\n",
      "https://comic.naver.com/webtoon/detail?titleId=826419&no=41\n",
      "https://comic.naver.com/webtoon/detail?titleId=826419&no=40\n",
      "https://comic.naver.com/webtoon/detail?titleId=826419&no=39\n",
      "https://comic.naver.com/webtoon/detail?titleId=826419&no=38\n",
      "https://comic.naver.com/webtoon/detail?titleId=826419&no=37\n",
      "https://comic.naver.com/webtoon/detail?titleId=826419&no=36\n",
      "https://comic.naver.com/webtoon/detail?titleId=826419&no=35\n",
      "https://comic.naver.com/webtoon/detail?titleId=826419&no=34\n",
      "https://comic.naver.com/webtoon/detail?titleId=826419&no=33\n",
      "https://comic.naver.com/webtoon/detail?titleId=826419&no=32\n",
      "https://comic.naver.com/webtoon/detail?titleId=826419&no=31\n",
      "https://comic.naver.com/webtoon/detail?titleId=826419&no=30\n",
      "https://comic.naver.com/webtoon/detail?titleId=826419&no=29\n",
      "https://comic.naver.com/webtoon/detail?titleId=826419&no=28\n",
      "https://comic.naver.com/webtoon/detail?titleId=826419&no=27\n",
      "{'page': 2}\n",
      "https://comic.naver.com/webtoon/detail?titleId=826419&no=26\n",
      "https://comic.naver.com/webtoon/detail?titleId=826419&no=25\n",
      "https://comic.naver.com/webtoon/detail?titleId=826419&no=24\n",
      "https://comic.naver.com/webtoon/detail?titleId=826419&no=23\n",
      "https://comic.naver.com/webtoon/detail?titleId=826419&no=22\n",
      "https://comic.naver.com/webtoon/detail?titleId=826419&no=21\n",
      "https://comic.naver.com/webtoon/detail?titleId=826419&no=20\n",
      "https://comic.naver.com/webtoon/detail?titleId=826419&no=19\n",
      "https://comic.naver.com/webtoon/detail?titleId=826419&no=18\n",
      "https://comic.naver.com/webtoon/detail?titleId=826419&no=17\n",
      "https://comic.naver.com/webtoon/detail?titleId=826419&no=16\n",
      "https://comic.naver.com/webtoon/detail?titleId=826419&no=15\n",
      "https://comic.naver.com/webtoon/detail?titleId=826419&no=14\n",
      "https://comic.naver.com/webtoon/detail?titleId=826419&no=13\n",
      "https://comic.naver.com/webtoon/detail?titleId=826419&no=12\n",
      "https://comic.naver.com/webtoon/detail?titleId=826419&no=11\n",
      "https://comic.naver.com/webtoon/detail?titleId=826419&no=10\n",
      "https://comic.naver.com/webtoon/detail?titleId=826419&no=9\n",
      "https://comic.naver.com/webtoon/detail?titleId=826419&no=8\n",
      "https://comic.naver.com/webtoon/detail?titleId=826419&no=7\n",
      "{'page': 3}\n",
      "https://comic.naver.com/webtoon/detail?titleId=826419&no=6\n",
      "https://comic.naver.com/webtoon/detail?titleId=826419&no=5\n",
      "https://comic.naver.com/webtoon/detail?titleId=826419&no=4\n",
      "https://comic.naver.com/webtoon/detail?titleId=826419&no=3\n",
      "https://comic.naver.com/webtoon/detail?titleId=826419&no=2\n",
      "https://comic.naver.com/webtoon/detail?titleId=826419&no=1\n"
     ]
    }
   ],
   "source": [
    "import requests\n",
    "\n",
    "def download_all_episode(title,episode_url):\n",
    "    title_id = get_title_id(episode_url)\n",
    "\n",
    "    ajax_url = f'https://comic.naver.com/api/article/list?titleId={title_id}'               \n",
    "    res = requests.get(ajax_url)\n",
    "\n",
    "    if res.ok:\n",
    "        total_count = res.json()['totalCount']\n",
    "        for count in range(calculate_pages(total_count)):\n",
    "            # count 변수 0,1,2 // page 번호는 1,2,3\n",
    "            page = count + 1\n",
    "            req_param = { \"page\": page }\n",
    "            print(req_param)\n",
    "            res = requests.get(ajax_url, params=req_param)\n",
    "            for article in res.json()['articleList']:\n",
    "                no = article['no']\n",
    "                detail_url = f'https://comic.naver.com/webtoon/detail?titleId={title_id}&no={no}'\n",
    "                print(detail_url)\n",
    "        \n",
    "\n",
    "if __name__ == '__main__': \n",
    "    download_all_episode('롤플레잉','https://comic.naver.com/webtoon/list?titleId=826419')"
   ]
  },
  {
   "cell_type": "markdown",
   "metadata": {},
   "source": [
    "#### image download 처리하기\n",
    "* 모든 Page의 회차 url를 가져오기 ( image 다운로드는 호출함 )"
   ]
  },
  {
   "cell_type": "code",
   "execution_count": 1,
   "metadata": {},
   "outputs": [
    {
     "ename": "NameError",
     "evalue": "name 'get_title_id' is not defined",
     "output_type": "error",
     "traceback": [
      "\u001b[1;31m---------------------------------------------------------------------------\u001b[0m",
      "\u001b[1;31mNameError\u001b[0m                                 Traceback (most recent call last)",
      "Cell \u001b[1;32mIn[1], line 27\u001b[0m\n\u001b[0;32m     23\u001b[0m                 sleep(\u001b[38;5;241m0.5\u001b[39m)\n\u001b[0;32m     25\u001b[0m \u001b[38;5;28;01mif\u001b[39;00m \u001b[38;5;18m__name__\u001b[39m \u001b[38;5;241m==\u001b[39m \u001b[38;5;124m'\u001b[39m\u001b[38;5;124m__main__\u001b[39m\u001b[38;5;124m'\u001b[39m: \n\u001b[0;32m     26\u001b[0m     \u001b[38;5;66;03m#download_all_episode('롤플레잉','https://comic.naver.com/webtoon/list?titleId=826419')\u001b[39;00m\n\u001b[1;32m---> 27\u001b[0m     download_all_episode(\u001b[38;5;124m'\u001b[39m\u001b[38;5;124m냉동무사\u001b[39m\u001b[38;5;124m'\u001b[39m,\u001b[38;5;124m'\u001b[39m\u001b[38;5;124mhttps://comic.naver.com/webtoon/list?titleId=836370\u001b[39m\u001b[38;5;124m'\u001b[39m)\n",
      "Cell \u001b[1;32mIn[1], line 5\u001b[0m, in \u001b[0;36mdownload_all_episode\u001b[1;34m(title, episode_url)\u001b[0m\n\u001b[0;32m      4\u001b[0m \u001b[38;5;28;01mdef\u001b[39;00m \u001b[38;5;21mdownload_all_episode\u001b[39m(title,episode_url):\n\u001b[1;32m----> 5\u001b[0m     title_id \u001b[38;5;241m=\u001b[39m get_title_id(episode_url)\n\u001b[0;32m      7\u001b[0m     ajax_url \u001b[38;5;241m=\u001b[39m \u001b[38;5;124mf\u001b[39m\u001b[38;5;124m'\u001b[39m\u001b[38;5;124mhttps://comic.naver.com/api/article/list?titleId=\u001b[39m\u001b[38;5;132;01m{\u001b[39;00mtitle_id\u001b[38;5;132;01m}\u001b[39;00m\u001b[38;5;124m'\u001b[39m               \n\u001b[0;32m      8\u001b[0m     res \u001b[38;5;241m=\u001b[39m requests\u001b[38;5;241m.\u001b[39mget(ajax_url)\n",
      "\u001b[1;31mNameError\u001b[0m: name 'get_title_id' is not defined"
     ]
    }
   ],
   "source": [
    "import requests\n",
    "from time import sleep\n",
    "\n",
    "def download_all_episode(title,episode_url):\n",
    "    title_id = get_title_id(episode_url)\n",
    "\n",
    "    ajax_url = f'https://comic.naver.com/api/article/list?titleId={title_id}'               \n",
    "    res = requests.get(ajax_url)\n",
    "\n",
    "    if res.ok:\n",
    "        total_count = res.json()['totalCount']\n",
    "        for count in range(calculate_pages(total_count)):\n",
    "            page = count + 1\n",
    "            req_param = { \"page\": page}\n",
    "            print(req_param)\n",
    "            res = requests.get(ajax_url, params=req_param)\n",
    "            for article in res.json()['articleList']:\n",
    "                no = article['no']\n",
    "                detail_url = f'https://comic.naver.com/webtoon/detail?titleId={title_id}&no={no}'\n",
    "                print(detail_url)\n",
    "                download_one_episode(title,no,detail_url)\n",
    "                #0.5초간 프로세스를 중지함, 기계가 아니라 사람처럼 보이게 하려고\n",
    "                sleep(0.5)\n",
    "\n",
    "if __name__ == '__main__': \n",
    "    #download_all_episode('롤플레잉','https://comic.naver.com/webtoon/list?titleId=826419')\n",
    "    download_all_episode('냉동무사','https://comic.naver.com/webtoon/list?titleId=836370')"
   ]
  }
 ],
 "metadata": {
  "kernelspec": {
   "display_name": "base",
   "language": "python",
   "name": "python3"
  },
  "language_info": {
   "codemirror_mode": {
    "name": "ipython",
    "version": 3
   },
   "file_extension": ".py",
   "mimetype": "text/x-python",
   "name": "python",
   "nbconvert_exporter": "python",
   "pygments_lexer": "ipython3",
   "version": "3.12.7"
  }
 },
 "nbformat": 4,
 "nbformat_minor": 4
}
